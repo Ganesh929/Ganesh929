{
  "nbformat": 4,
  "nbformat_minor": 0,
  "metadata": {
    "colab": {
      "provenance": [],
      "authorship_tag": "ABX9TyPQEJ0Kyyc2ZI7khZJekcNV",
      "include_colab_link": true
    },
    "kernelspec": {
      "name": "python3",
      "display_name": "Python 3"
    },
    "language_info": {
      "name": "python"
    }
  },
  "cells": [
    {
      "cell_type": "markdown",
      "metadata": {
        "id": "view-in-github",
        "colab_type": "text"
      },
      "source": [
        "<a href=\"https://colab.research.google.com/github/Ganesh929/Ganesh929/blob/main/app_py.ipynb\" target=\"_parent\"><img src=\"https://colab.research.google.com/assets/colab-badge.svg\" alt=\"Open In Colab\"/></a>"
      ]
    },
    {
      "cell_type": "code",
      "execution_count": null,
      "metadata": {
        "id": "pkn0WdkzPLeB"
      },
      "outputs": [],
      "source": [
        "%%writefile app.py\n",
        "import streamlit as st\n",
        "import yfinance as yf\n",
        "import numpy as np\n",
        "import pandas as pd\n",
        "import datetime\n",
        "import joblib\n",
        "import tensorflow as tf\n",
        "from tensorflow.keras.models import load_model\n",
        "import matplotlib.pyplot as plt\n",
        "\n",
        "MODEL_PATH = \"stock_model.h5\"\n",
        "SCALER_PATH = \"scaler.pkl\"\n",
        "\n",
        "# ✅ Fix: st.cache_resource (new version of Streamlit)\n",
        "@st.cache_resource\n",
        "def load_resources():\n",
        "    model = load_model(MODEL_PATH, custom_objects={\"mse\": tf.keras.losses.MeanSquaredError()})\n",
        "        scaler = joblib.load(SCALER_PATH)\n",
        "            return model, scaler\n",
        "\n",
        "            model, scaler = load_resources()\n",
        "\n",
        "            st.title(\"📈 Real-Time Stock Price Prediction\")\n",
        "\n",
        "            # User input for stock symbol\n",
        "            ticker = st.text_input(\"Enter Stock Symbol (e.g., AAPL, TSLA, MSFT):\", \"AAPL\")\n",
        "\n",
        "            if st.button(\"Fetch Data & Predict\"):\n",
        "                # ✅ Fetch real stock data\n",
        "                    data = yf.download(ticker, start=\"2015-01-01\", end=datetime.date.today().strftime(\"%Y-%m-%d\"))\n",
        "                        data = data[['Close']]\n",
        "\n",
        "                            # Show chart\n",
        "                                st.subheader(f\"📊 {ticker} Stock Closing Price\")\n",
        "                                    st.line_chart(data['Close'])\n",
        "\n",
        "                                        # Prepare last 60 days for prediction\n",
        "                                            last_60 = data[-60:].values\n",
        "                                                scaled_last_60 = scaler.transform(last_60)\n",
        "\n",
        "                                                    X_test = np.reshape(scaled_last_60, (1, 60, 1))\n",
        "                                                        pred_price = model.predict(X_test)\n",
        "                                                            pred_price = scaler.inverse_transform(pred_price)\n",
        "\n",
        "                                                                st.success(f\"Predicted Next Day Closing Price for {ticker}: **${pred_price[0][0]:.2f}**\")"
      ]
    },
    {
      "cell_type": "code",
      "source": [
        "from pyngrok import ngrok, conf\n",
        "\n",
        "NGROK_AUTH_TOKEN = \"YOUR_NGROK_AUTH_TOKEN\"\n",
        "conf.get_default().auth_token = NGROK_AUTH_TOKEN\n",
        "\n",
        "ngrok.kill()  # close old tunnels\n",
        "public_url = ngrok.connect(8501)\n",
        "print(\"🌍 Streamlit public URL:\", public_url)\n",
        "\n",
        "!streamlit run app.py --server.port 8501 &>/dev/null&"
      ],
      "metadata": {
        "id": "xZMYSwjDPP7i"
      },
      "execution_count": null,
      "outputs": []
    }
  ]
}